{
 "cells": [
  {
   "cell_type": "code",
   "execution_count": 1,
   "metadata": {},
   "outputs": [],
   "source": [
    "import numpy as np\n",
    "import matplotlib.pyplot as plt\n",
    "import pandas as pd\n",
    "from nltk.stem import SnowballStemmer\n",
    "import random\n",
    "plt.style.use(\"seaborn\")\n",
    "import json"
   ]
  },
  {
   "cell_type": "markdown",
   "metadata": {},
   "source": [
    "## Data Preparation\n",
    "1. Get Data from victims.csv and volunteers.csv\n",
    "2. clean data"
   ]
  },
  {
   "cell_type": "code",
   "execution_count": 2,
   "metadata": {},
   "outputs": [
    {
     "name": "stdout",
     "output_type": "stream",
     "text": [
      "   id    help_needed                                 verbs       priorities\n",
      "0  S1  Psychological  [medicin, drive, sing, danc, comedi]  [9, 2, 4, 4, 5]\n",
      "1  S2           Food              [drive, farm, distribut]        [5, 9, 8]\n",
      "2  S3  Transportaion                               [drive]              [6]\n",
      "3  S4       Teaching            [teach, art, danc, scienc]     [9, 8, 7, 6]\n",
      "   id Volunteer               verbs  can_serve\n",
      "0  V1    Singer              [sing]          2\n",
      "1  V2    Artist         [act, sing]          2\n",
      "2  V3    Driver  [drive, distribut]          2\n",
      "3  V4    Doctor           [medicin]          2\n",
      "4  V5    Farmer              [farm]          2\n"
     ]
    }
   ],
   "source": [
    "# Get Victims Data\n",
    "snow = SnowballStemmer(language='english')\n",
    "victims_df = pd.read_csv(\"victims.csv\")\n",
    "victims_df[\"verbs\"] = [[snow.stem(y) for y in x.split('-')] for x in victims_df[\"verbs\"]]\n",
    "victims_df[\"priorities\"] = [[ int(y) for y in x.split('-') ] for x in victims_df[\"priorities\"]]\n",
    "print(victims_df.head())\n",
    "#print(\"\\n\\n\")\n",
    "\n",
    "# Get Volunteers Data\n",
    "volunteers_df = pd.read_csv(\"volunteers.csv\")\n",
    "volunteers_df[\"verbs\"] = [[snow.stem(y) for y in x.split('-')] for x in volunteers_df[\"verbs\"]]\n",
    "volunteers_df_copy = pd.read_csv(\"volunteers.csv\")\n",
    "volunteers_df_copy[\"verbs\"] = [x.split('-') for x in volunteers_df_copy[\"verbs\"]]\n",
    "volunteers_df_copy.drop(columns=[\"can_serve\"])\n",
    "print(volunteers_df.head())"
   ]
  },
  {
   "cell_type": "code",
   "execution_count": 3,
   "metadata": {},
   "outputs": [],
   "source": [
    "#print(victims_df.iloc[1].values)\n",
    "results = dict()\n",
    "for i in range(victims_df.shape[0]):\n",
    "    row = victims_df.iloc[i].values\n",
    "    result = {}\n",
    "    idx = row[0]\n",
    "    result['help'] = row[1]\n",
    "    result['verbs'] = row[2]\n",
    "    result['volunteers_allocated'] = []\n",
    "    results[idx] = result\n",
    "    \n",
    "#results\n",
    "#results['S1']['volunteers_allocated'].append('V1')\n"
   ]
  },
  {
   "cell_type": "code",
   "execution_count": 4,
   "metadata": {},
   "outputs": [],
   "source": [
    "k= victims_df.shape[0]\n",
    "colors = ['green','red','blue','yellow','orange']\n",
    "clusters = {}\n",
    "for i in range(k):\n",
    "    victim = victims_df.iloc[i].to_dict() # they will be victims\n",
    "    points = []\n",
    "    cluster = {\n",
    "        'victim': victim,\n",
    "        'points': points,\n",
    "        'color': colors[i%len(colors)]\n",
    "    }\n",
    "    clusters[i] = cluster"
   ]
  },
  {
   "cell_type": "code",
   "execution_count": null,
   "metadata": {},
   "outputs": [],
   "source": []
  },
  {
   "cell_type": "code",
   "execution_count": 5,
   "metadata": {},
   "outputs": [],
   "source": [
    "def get_common_elements(v1,v2):\n",
    "    return list(set(v1) & set(v2))\n",
    "\n",
    "def remove_common_elements(a,b):\n",
    "    return list(set(a) - set(b))\n",
    "\n",
    "def get_distance(common, arr= None, priorities = None):\n",
    "    if priorities is None or arr is None:\n",
    "        return len(common)\n",
    "    else:\n",
    "        distance = np.sum([priorities[ix] for ix, val in enumerate(arr) if val in common])\n",
    "        return distance"
   ]
  },
  {
   "cell_type": "code",
   "execution_count": 6,
   "metadata": {},
   "outputs": [
    {
     "data": {
      "text/plain": [
       "\"\\nvictim = volunteers_df.iloc[0].to_dict()\\nprint(victim)\\nprint(clusters)\\n\\ncur_x = volunteers_df.iloc[1].to_dict()\\nprint(cur_x)\\nprint(clusters[2]['victim']['verbs'])\\ndistance(cur_x['verbs'],clusters[2]['victim']['verbs'])\\n\\ncommon = [1,2,3,4,5]\\narr = [1,2,3,4,5,6,7,8,9,10]\\npriorities = [5,4,7,9,2,1,5,4,2,7]\\nprint(get_distance(common))\\n\""
      ]
     },
     "execution_count": 6,
     "metadata": {},
     "output_type": "execute_result"
    }
   ],
   "source": [
    "#distance(volunteers_df[\"verbs\"].iloc[2],victims_df[\"verbs\"].iloc[1])\n",
    "'''\n",
    "victim = volunteers_df.iloc[0].to_dict()\n",
    "print(victim)\n",
    "print(clusters)\n",
    "\n",
    "cur_x = volunteers_df.iloc[1].to_dict()\n",
    "print(cur_x)\n",
    "print(clusters[2]['victim']['verbs'])\n",
    "distance(cur_x['verbs'],clusters[2]['victim']['verbs'])\n",
    "\n",
    "common = [1,2,3,4,5]\n",
    "arr = [1,2,3,4,5,6,7,8,9,10]\n",
    "priorities = [5,4,7,9,2,1,5,4,2,7]\n",
    "print(get_distance(common))\n",
    "'''"
   ]
  },
  {
   "cell_type": "code",
   "execution_count": 7,
   "metadata": {},
   "outputs": [],
   "source": [
    "# E-step\n",
    "# Parameters : X = dataset -> pd.DataFrame\n",
    "#            : clusters = victimslist -> dictionary \n",
    "def AssignPointsToClusters(Volunteers, clusters):\n",
    "    done = True\n",
    "    for ix in range(Volunteers.shape[0]):\n",
    "        dist = []\n",
    "        common_elements_list = []\n",
    "        cur_vol = Volunteers.iloc[ix].to_dict()\n",
    "        for kx in range(k):\n",
    "            common_elements = get_common_elements(cur_vol['verbs'],clusters[kx]['victim']['verbs'])\n",
    "            common_elements_list.append(common_elements)\n",
    "            # Get Distance score based on Priorities\n",
    "            distance = get_distance(common_elements, clusters[kx]['victim']['verbs'], clusters[kx]['victim']['priorities'])\n",
    "            dist.append(distance)\n",
    "        \n",
    "        maximum = np.max(dist)\n",
    "        max_list = [idx for idx,val in enumerate(dist) if val == maximum]\n",
    "        # Randomly choose one victim to be assigned if multiple victims have same distance score\n",
    "        cur_cluster = random.choice(max_list)\n",
    "        print(\"dist:\", dist, \"max:\", maximum, \"argmax(selected):\", cur_cluster)\n",
    "        if maximum != 0:\n",
    "            clusters[cur_cluster]['points'].append(cur_vol)\n",
    "            # Remove common Elements from Victims so that further Volunteers are not assigned\n",
    "            common_elements = common_elements_list[cur_cluster]\n",
    "            clusters[cur_cluster]['victim']['verbs'] = remove_common_elements(clusters[cur_cluster]['victim']['verbs'],common_elements)    \n",
    "            if cur_vol['can_serve'] == 1:\n",
    "                cur_vol['verbs'] = remove_common_elements(cur_vol['verbs'],common_elements)\n",
    "                volunteers_df['verbs'].iloc[ix] = cur_vol['verbs']\n",
    "            else:\n",
    "                volunteers_df['can_serve'].iloc[ix] = cur_vol['can_serve'] - 1\n",
    "            done = False\n",
    "    return done\n",
    "        \n",
    "\n",
    "# M-step\n",
    "def UpdateClusters(clusters,k):\n",
    "    for kx in range(k):\n",
    "        pts = np.array(clusters[kx]['points'])\n",
    "        if pts.shape[0]>0:\n",
    "            for ix in range(pts.shape[0]):\n",
    "                idx = clusters[kx]['victim']['id']\n",
    "                verbs_list = volunteers_df_copy['verbs'].loc[volunteers_df_copy[\"id\"] == pts[ix]['id']].to_list()\n",
    "                pts[ix]['verbs'] = verbs_list\n",
    "                \n",
    "                results[idx]['volunteers_allocated'].append(pts[ix])\n",
    "                print(\"Volunteer:\", pts[ix][\"id\"], \"is assigned to Victim:\", idx)\n",
    "            clusters[kx]['points'] = [] #Clear the List\n",
    "\n",
    "def model(X,clusters,k):\n",
    "    done = False\n",
    "    while not done:\n",
    "        done = AssignPointsToClusters(X,clusters)\n",
    "        UpdateClusters(clusters,k)\n",
    "    \n",
    "    "
   ]
  },
  {
   "cell_type": "code",
   "execution_count": 8,
   "metadata": {},
   "outputs": [
    {
     "name": "stdout",
     "output_type": "stream",
     "text": [
      "dist: [4, 0.0, 0.0, 0.0] max: 4.0 argmax(selected): 0\n",
      "dist: [0.0, 0.0, 0.0, 0.0] max: 0.0 argmax(selected): 2\n",
      "dist: [4, 13, 6, 0.0] max: 13.0 argmax(selected): 1\n",
      "dist: [4, 0.0, 0.0, 0.0] max: 4.0 argmax(selected): 0\n",
      "dist: [0.0, 5, 0.0, 0.0] max: 5.0 argmax(selected): 1\n",
      "Volunteer: V1 is assigned to Victim: S1\n",
      "Volunteer: V4 is assigned to Victim: S1\n",
      "Volunteer: V3 is assigned to Victim: S2\n",
      "Volunteer: V5 is assigned to Victim: S2\n",
      "dist: [0.0, 0.0, 0.0, 0.0] max: 0.0 argmax(selected): 2\n",
      "dist: [0.0, 0.0, 0.0, 0.0] max: 0.0 argmax(selected): 1\n",
      "dist: [2, 0.0, 6, 0.0] max: 6.0 argmax(selected): 2\n",
      "dist: [0.0, 0.0, 0.0, 0.0] max: 0.0 argmax(selected): 0\n",
      "dist: [0.0, 0.0, 0.0, 0.0] max: 0.0 argmax(selected): 0\n",
      "Volunteer: V3 is assigned to Victim: S3\n",
      "dist: [0.0, 0.0, 0.0, 0.0] max: 0.0 argmax(selected): 3\n",
      "dist: [0.0, 0.0, 0.0, 0.0] max: 0.0 argmax(selected): 3\n",
      "dist: [0.0, 0.0, 0.0, 0.0] max: 0.0 argmax(selected): 1\n",
      "dist: [0.0, 0.0, 0.0, 0.0] max: 0.0 argmax(selected): 2\n",
      "dist: [0.0, 0.0, 0.0, 0.0] max: 0.0 argmax(selected): 0\n"
     ]
    },
    {
     "name": "stderr",
     "output_type": "stream",
     "text": [
      "C:\\Users\\sathyamoorthy pandia\\Anaconda3\\lib\\site-packages\\pandas\\core\\indexing.py:205: SettingWithCopyWarning: \n",
      "A value is trying to be set on a copy of a slice from a DataFrame\n",
      "\n",
      "See the caveats in the documentation: http://pandas.pydata.org/pandas-docs/stable/user_guide/indexing.html#returning-a-view-versus-a-copy\n",
      "  self._setitem_with_indexer(indexer, value)\n"
     ]
    },
    {
     "data": {
      "text/plain": [
       "{'S1': {'help': 'Psychological',\n",
       "  'verbs': ['medicin', 'drive', 'sing', 'danc', 'comedi'],\n",
       "  'volunteers_allocated': [{'id': 'V1',\n",
       "    'Volunteer': 'Singer',\n",
       "    'verbs': [['singing']],\n",
       "    'can_serve': 2},\n",
       "   {'id': 'V4',\n",
       "    'Volunteer': 'Doctor',\n",
       "    'verbs': [['medicine']],\n",
       "    'can_serve': 2}]},\n",
       " 'S2': {'help': 'Food',\n",
       "  'verbs': ['drive', 'farm', 'distribut'],\n",
       "  'volunteers_allocated': [{'id': 'V3',\n",
       "    'Volunteer': 'Driver',\n",
       "    'verbs': [['driving', 'distributing']],\n",
       "    'can_serve': 2},\n",
       "   {'id': 'V5',\n",
       "    'Volunteer': 'Farmer',\n",
       "    'verbs': [['farming']],\n",
       "    'can_serve': 2}]},\n",
       " 'S3': {'help': 'Transportaion',\n",
       "  'verbs': ['drive'],\n",
       "  'volunteers_allocated': [{'id': 'V3',\n",
       "    'Volunteer': 'Driver',\n",
       "    'verbs': [['driving', 'distributing']],\n",
       "    'can_serve': 1}]},\n",
       " 'S4': {'help': 'Teaching',\n",
       "  'verbs': ['teach', 'art', 'danc', 'scienc'],\n",
       "  'volunteers_allocated': []}}"
      ]
     },
     "execution_count": 8,
     "metadata": {},
     "output_type": "execute_result"
    }
   ],
   "source": [
    "model(volunteers_df,clusters, k)\n",
    "results"
   ]
  },
  {
   "cell_type": "code",
   "execution_count": 55,
   "metadata": {},
   "outputs": [],
   "source": [
    "json_obj = json.dumps(results, indent=2)\n",
    "with open('results.json', 'w') as f:\n",
    "    f.write(json_obj)\n"
   ]
  },
  {
   "cell_type": "code",
   "execution_count": 56,
   "metadata": {},
   "outputs": [
    {
     "name": "stdout",
     "output_type": "stream",
     "text": [
      "{\n",
      "  \"S1\": {\n",
      "    \"help\": \"Psychological\",\n",
      "    \"verbs\": [\n",
      "      \"medicine\",\n",
      "      \"driving\",\n",
      "      \"singing\",\n",
      "      \"dancing\",\n",
      "      \"comedy\"\n",
      "    ],\n",
      "    \"volunteers_allocated\": [\n",
      "      {\n",
      "        \"id\": \"V1\",\n",
      "        \"Volunteer\": \"Singer\",\n",
      "        \"verbs\": [\n",
      "          [\n",
      "            \"singing\"\n",
      "          ]\n",
      "        ]\n",
      "      },\n",
      "      {\n",
      "        \"id\": \"V4\",\n",
      "        \"Volunteer\": \"Doctor\",\n",
      "        \"verbs\": [\n",
      "          [\n",
      "            \"medicine\"\n",
      "          ]\n",
      "        ]\n",
      "      }\n",
      "    ]\n",
      "  },\n",
      "  \"S2\": {\n",
      "    \"help\": \"Food\",\n",
      "    \"verbs\": [\n",
      "      \"driving\",\n",
      "      \"farming\",\n",
      "      \"distributing\"\n",
      "    ],\n",
      "    \"volunteers_allocated\": [\n",
      "      {\n",
      "        \"id\": \"V3\",\n",
      "        \"Volunteer\": \"Driver\",\n",
      "        \"verbs\": [\n",
      "          [\n",
      "            \"driving\",\n",
      "            \"distributing\"\n",
      "          ]\n",
      "        ]\n",
      "      },\n",
      "      {\n",
      "        \"id\": \"V5\",\n",
      "        \"Volunteer\": \"Farmer\",\n",
      "        \"verbs\": [\n",
      "          [\n",
      "            \"farming\"\n",
      "          ]\n",
      "        ]\n",
      "      }\n",
      "    ]\n",
      "  },\n",
      "  \"S3\": {\n",
      "    \"help\": \"Transportaion\",\n",
      "    \"verbs\": [\n",
      "      \"driving\"\n",
      "    ],\n",
      "    \"volunteers_allocated\": []\n",
      "  },\n",
      "  \"S4\": {\n",
      "    \"help\": \"Teaching\",\n",
      "    \"verbs\": [\n",
      "      \"teaching\",\n",
      "      \"art\",\n",
      "      \"dancing\",\n",
      "      \"science\"\n",
      "    ],\n",
      "    \"volunteers_allocated\": []\n",
      "  }\n",
      "}\n"
     ]
    }
   ],
   "source": [
    "print(json_obj)"
   ]
  },
  {
   "cell_type": "code",
   "execution_count": null,
   "metadata": {},
   "outputs": [],
   "source": []
  },
  {
   "cell_type": "code",
   "execution_count": null,
   "metadata": {},
   "outputs": [],
   "source": []
  }
 ],
 "metadata": {
  "kernelspec": {
   "display_name": "Python 3",
   "language": "python",
   "name": "python3"
  },
  "language_info": {
   "codemirror_mode": {
    "name": "ipython",
    "version": 3
   },
   "file_extension": ".py",
   "mimetype": "text/x-python",
   "name": "python",
   "nbconvert_exporter": "python",
   "pygments_lexer": "ipython3",
   "version": "3.7.4"
  }
 },
 "nbformat": 4,
 "nbformat_minor": 2
}
